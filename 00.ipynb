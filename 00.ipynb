{
 "cells": [
  {
   "cell_type": "code",
   "execution_count": 1,
   "id": "0956b0da-17e0-4833-a9a8-ca0a3eff3233",
   "metadata": {},
   "outputs": [],
   "source": [
    "import random\n",
    "import torch,torchvision\n",
    "import cv2\n",
    "import os\n",
    "from tqdm import tqdm\n",
    "import matplotlib.pyplot as plt\n",
    "import wandb\n",
    "import numpy as np\n",
    "from torch.nn import *\n",
    "from torch.optim import *\n",
    "from torchvision.transforms import *\n",
    "torch.manual_seed(42)\n",
    "np.random.seed(42)\n",
    "random.seed(42)"
   ]
  },
  {
   "cell_type": "code",
   "execution_count": 2,
   "id": "9f631760-d33d-4099-9074-6aa7a8188d00",
   "metadata": {},
   "outputs": [],
   "source": [
    "IMG_SIZE = 224\n",
    "PROJECT_NAME = 'Fake-Face-V2'\n",
    "device = torch.device('cuda')"
   ]
  },
  {
   "cell_type": "code",
   "execution_count": 3,
   "id": "38fd7cb3-7253-4b93-bc22-e0aaef68679a",
   "metadata": {},
   "outputs": [],
   "source": [
    "transformation = Compose([\n",
    "    ToTensor(),\n",
    "])"
   ]
  },
  {
   "cell_type": "code",
   "execution_count": 4,
   "id": "3d5ca3e9-73a4-4f6a-88f4-40a5b2680081",
   "metadata": {},
   "outputs": [],
   "source": [
    "def load_data(data_dir='./data/',transformation=transformation):\n",
    "    data = []\n",
    "    idx = -1\n",
    "    for file in tqdm(os.listdir(data_dir)):\n",
    "        idx += 1\n",
    "        file = data_dir + file\n",
    "        img = cv2.imread(file)\n",
    "        img = cv2.resize(img,(IMG_SIZE,IMG_SIZE))\n",
    "        data.append(np.array(transformation(np.array(img))))\n",
    "    np.random.shuffle(data)\n",
    "    data = torch.from_numpy(np.array(data))\n",
    "    print(idx)\n",
    "    return data"
   ]
  },
  {
   "cell_type": "code",
   "execution_count": 5,
   "id": "9813ccfc-8115-4e46-a41d-f767caa2b6e0",
   "metadata": {},
   "outputs": [
    {
     "name": "stderr",
     "output_type": "stream",
     "text": [
      "100%|██████████| 1081/1081 [00:08<00:00, 126.84it/s]\n"
     ]
    },
    {
     "name": "stdout",
     "output_type": "stream",
     "text": [
      "1080\n"
     ]
    }
   ],
   "source": [
    "data = load_data()"
   ]
  },
  {
   "cell_type": "code",
   "execution_count": 6,
   "id": "120d5543-ee34-4beb-89e4-d5ea84518c74",
   "metadata": {},
   "outputs": [],
   "source": [
    "from torch import nn"
   ]
  },
  {
   "cell_type": "code",
   "execution_count": 7,
   "id": "24e65963-3906-4f3a-89b2-88dbf23f378a",
   "metadata": {},
   "outputs": [],
   "source": [
    "class Desc(Module):\n",
    "    def __init__(self,activation=LeakyReLU,starter=128):\n",
    "        super().__init__()\n",
    "        self.dropout = Dropout()\n",
    "        self.activation = activation()\n",
    "        self.linear1 = Linear(IMG_SIZE*IMG_SIZE*3,starter)\n",
    "        self.linear1batchnorm = BatchNorm1d(starter)\n",
    "        self.linear2 = Linear(starter,starter*2)\n",
    "        self.linear2batchnorm = BatchNorm1d(starter*2)\n",
    "        self.linear3 = Linear(starter*2,starter*4)\n",
    "        self.linear3batchnorm = BatchNorm1d(starter*4)\n",
    "        self.linear4 = Linear(starter*4,starter*8)\n",
    "        self.linear4batchnorm = BatchNorm1d(starter*8)\n",
    "        self.linear5 = Linear(starter*8,starter*4)\n",
    "        self.linear5batchnorm = BatchNorm1d(starter*4)\n",
    "        self.output = Linear(starter*4,1)\n",
    "        self.output_activation = Sigmoid()\n",
    "    \n",
    "    def forward(self,X):\n",
    "        X = X.view(-1,IMG_SIZE*IMG_SIZE*3)\n",
    "        preds = self.dropout(self.activation(self.linear1batchnorm(self.linear1(X))))\n",
    "        preds = self.dropout(self.activation(self.linear2batchnorm(self.linear2(preds))))\n",
    "        preds = self.dropout(self.activation(self.linear3batchnorm(self.linear3(preds))))\n",
    "        preds = self.dropout(self.activation(self.linear4batchnorm(self.linear4(preds))))\n",
    "        preds = self.dropout(self.activation(self.linear5batchnorm(self.linear5(preds))))\n",
    "        preds = self.output_activation(self.output(preds))\n",
    "        return preds\n",
    "        \n",
    "class Gen(Module):\n",
    "    def __init__(self,z_dim,activation=LeakyReLU,starter=512):\n",
    "        super().__init__()\n",
    "        self.dropout = Dropout()\n",
    "        self.activation = activation()\n",
    "        self.linear1 = Linear(z_dim,starter)\n",
    "        self.linear1batchnorm = BatchNorm1d(starter)\n",
    "        self.linear2 = Linear(starter,starter*2)\n",
    "        self.linear2batchnorm = BatchNorm1d(starter*2)\n",
    "        self.linear3 = Linear(starter*2,starter*4)\n",
    "        self.linear3batchnorm = BatchNorm1d(starter*4)\n",
    "        self.linear4 = Linear(starter*4,starter*8)\n",
    "        self.linear4batchnorm = BatchNorm1d(starter*8)\n",
    "        self.linear5 = Linear(starter*8,starter*4)\n",
    "        self.linear5batchnorm = BatchNorm1d(starter*4)\n",
    "        self.output = Linear(starter*4,IMG_SIZE*IMG_SIZE*3)\n",
    "        self.output_activation = Tanh()\n",
    " \n",
    "    def forward(self, X):\n",
    "        preds = self.dropout(self.activation(self.linear1batchnorm(self.linear1(X))))\n",
    "        preds = self.dropout(self.activation(self.linear2batchnorm(self.linear2(preds))))\n",
    "        preds = self.dropout(self.activation(self.linear3batchnorm(self.linear3(preds))))\n",
    "        preds = self.dropout(self.activation(self.linear4batchnorm(self.linear4(preds))))\n",
    "        preds = self.dropout(self.activation(self.linear5batchnorm(self.linear5(preds))))\n",
    "        preds = self.output_activation(self.output(preds))\n",
    "        return preds"
   ]
  },
  {
   "cell_type": "code",
   "execution_count": 8,
   "id": "e2d958b8-ff07-40e8-94ad-487c3a998544",
   "metadata": {},
   "outputs": [],
   "source": [
    "z_dim = 64\n",
    "batch_size = 32\n",
    "desc = Desc().to(device)\n",
    "gen = Gen(z_dim).to(device)\n",
    "lr = 3e-4\n",
    "epochs = 56\n",
    "criterion = BCELoss()\n",
    "optimizer_gen = Adam(gen.parameters(),lr=lr)\n",
    "optimizer_desc = Adam(desc.parameters(),lr=lr)\n",
    "fixed_noise = torch.randn((batch_size,z_dim)).to(device)"
   ]
  },
  {
   "cell_type": "code",
   "execution_count": 9,
   "id": "f7eff20b-fac9-49a1-8b76-375a8c9f7347",
   "metadata": {},
   "outputs": [],
   "source": [
    "data = data[0:1056]"
   ]
  },
  {
   "cell_type": "code",
   "execution_count": 10,
   "id": "0910b575-baf1-405d-bbd2-e93e92e269c0",
   "metadata": {},
   "outputs": [],
   "source": [
    "def accuracy_fake(desc_fake):\n",
    "    correct = 0\n",
    "    total = 0\n",
    "    preds = np.round(np.array(desc_fake.cpu().detach().numpy()))\n",
    "    for pred in preds:\n",
    "        if pred == 0:\n",
    "            correct += 1\n",
    "        total += 1\n",
    "    return round(correct/total,3)\n",
    "def accuracy_real(desc_real):\n",
    "    correct = 0\n",
    "    total = 0\n",
    "    preds = np.round(np.array(desc_real.cpu().detach().numpy()))\n",
    "    for pred in preds:\n",
    "        if pred == 1:\n",
    "            correct += 1\n",
    "        total += 1\n",
    "    return round(correct/total,3)"
   ]
  },
  {
   "cell_type": "code",
   "execution_count": 11,
   "id": "1a1f5d2f-2453-4b94-adab-831b39f10bce",
   "metadata": {},
   "outputs": [
    {
     "name": "stderr",
     "output_type": "stream",
     "text": [
      "100%|██████████| 1081/1081 [00:07<00:00, 137.11it/s]\n"
     ]
    },
    {
     "name": "stdout",
     "output_type": "stream",
     "text": [
      "1080\n"
     ]
    },
    {
     "name": "stderr",
     "output_type": "stream",
     "text": [
      "\u001b[34m\u001b[1mwandb\u001b[0m: W&B API key is configured (use `wandb login --relogin` to force relogin)\n"
     ]
    },
    {
     "data": {
      "text/html": [
       "\n",
       "                Tracking run with wandb version 0.12.0<br/>\n",
       "                Syncing run <strong style=\"color:#cdcd00\">transformation-None</strong> to <a href=\"https://wandb.ai\" target=\"_blank\">Weights & Biases</a> <a href=\"https://docs.wandb.com/integrations/jupyter.html\" target=\"_blank\">(Documentation)</a>.<br/>\n",
       "                Project page: <a href=\"https://wandb.ai/ranuga-d/Fake-Face-V2\" target=\"_blank\">https://wandb.ai/ranuga-d/Fake-Face-V2</a><br/>\n",
       "                Run page: <a href=\"https://wandb.ai/ranuga-d/Fake-Face-V2/runs/2dkmhd78\" target=\"_blank\">https://wandb.ai/ranuga-d/Fake-Face-V2/runs/2dkmhd78</a><br/>\n",
       "                Run data is saved locally in <code>/home/indika/Programming/Projects/Python/Artifical-Intelligence/PyTorch/GAN/Fake-Face-GAN-V2/wandb/run-20210817_090431-2dkmhd78</code><br/><br/>\n",
       "            "
      ],
      "text/plain": [
       "<IPython.core.display.HTML object>"
      ]
     },
     "metadata": {},
     "output_type": "display_data"
    },
    {
     "name": "stderr",
     "output_type": "stream",
     "text": [
      "100%|██████████| 56/56 [05:37<00:00,  6.03s/it]\n"
     ]
    },
    {
     "data": {
      "text/html": [
       "<br/>Waiting for W&B process to finish, PID 126643<br/>Program ended successfully."
      ],
      "text/plain": [
       "<IPython.core.display.HTML object>"
      ]
     },
     "metadata": {},
     "output_type": "display_data"
    },
    {
     "data": {
      "application/vnd.jupyter.widget-view+json": {
       "model_id": "",
       "version_major": 2,
       "version_minor": 0
      },
      "text/plain": [
       "VBox(children=(Label(value=' 115.80MB of 256.74MB uploaded (0.00MB deduped)\\r'), FloatProgress(value=0.4510463…"
      ]
     },
     "metadata": {},
     "output_type": "display_data"
    },
    {
     "data": {
      "text/html": [
       "Find user logs for this run at: <code>/home/indika/Programming/Projects/Python/Artifical-Intelligence/PyTorch/GAN/Fake-Face-GAN-V2/wandb/run-20210817_090431-2dkmhd78/logs/debug.log</code>"
      ],
      "text/plain": [
       "<IPython.core.display.HTML object>"
      ]
     },
     "metadata": {},
     "output_type": "display_data"
    },
    {
     "data": {
      "text/html": [
       "Find internal logs for this run at: <code>/home/indika/Programming/Projects/Python/Artifical-Intelligence/PyTorch/GAN/Fake-Face-GAN-V2/wandb/run-20210817_090431-2dkmhd78/logs/debug-internal.log</code>"
      ],
      "text/plain": [
       "<IPython.core.display.HTML object>"
      ]
     },
     "metadata": {},
     "output_type": "display_data"
    },
    {
     "data": {
      "text/html": [
       "<h3>Run summary:</h3><br/><style>\n",
       "    table.wandb td:nth-child(1) { padding: 0 10px; text-align: right }\n",
       "    </style><table class=\"wandb\">\n",
       "<tr><td>lossD</td><td>0.682</td></tr><tr><td>_runtime</td><td>371</td></tr><tr><td>_timestamp</td><td>1629171642</td></tr><tr><td>_step</td><td>391</td></tr><tr><td>lossG</td><td>0.82757</td></tr><tr><td>lossD Fake</td><td>0.70489</td></tr><tr><td>lossD Real</td><td>0.65911</td></tr><tr><td>Acc Fake</td><td>0.5</td></tr><tr><td>Acc Real</td><td>0.656</td></tr></table>"
      ],
      "text/plain": [
       "<IPython.core.display.HTML object>"
      ]
     },
     "metadata": {},
     "output_type": "display_data"
    },
    {
     "data": {
      "text/html": [
       "<h3>Run history:</h3><br/><style>\n",
       "    table.wandb td:nth-child(1) { padding: 0 10px; text-align: right }\n",
       "    </style><table class=\"wandb\">\n",
       "<tr><td>lossD</td><td>▆█▄▄▅▅▆▄▄▅▅▆▄▅▄▄▆▅▃▄▅▄▄▄▅▅▄▅▄▄▅▄▅▄▄▃▃▁▄▄</td></tr><tr><td>_runtime</td><td>▁▁▁▂▂▂▂▂▂▃▃▃▃▃▃▄▄▄▄▄▄▅▅▅▅▅▆▆▆▆▆▇▇▇▇▇▇███</td></tr><tr><td>_timestamp</td><td>▁▁▁▂▂▂▂▂▂▃▃▃▃▃▃▄▄▄▄▄▄▅▅▅▅▅▆▆▆▆▆▇▇▇▇▇▇███</td></tr><tr><td>_step</td><td>▁▁▁▂▂▂▂▂▂▃▃▃▃▃▃▄▄▄▄▄▅▅▅▅▅▅▆▆▆▆▆▇▇▇▇▇▇███</td></tr><tr><td>lossG</td><td>▅▃▃▅▂▄▃▃▁▂▄▃▄▄▃▂▂▂▁▄▃▂▃▃▂▂▁▂▃▁▂▄▃▃▄▂▅▃▄█</td></tr><tr><td>lossD Fake</td><td>▃█▃▂▄▂▄▃▂▄▃▆▄▄▄▂▅▂▁▂▄▃▃▃▄▄▃▃▃▃▄▃▄▄▃▂▂▁▆▄</td></tr><tr><td>lossD Real</td><td>█▇▄▆▆▆▇▄▅▆▆▄▃▅▄▆▆▆▅▅▅▅▄▅▅▄▄▅▄▄▅▅▅▃▅▄▄▁▃▃</td></tr><tr><td>Acc Fake</td><td>▄▂▇█▅▆▃▅▆▆▄▁▄▆▄▇▄▅▇▆▃▄▄▄▄▄▄▃▄▆▄▆▃▃▆▇▆▇▁▄</td></tr><tr><td>Acc Real</td><td>▄▁▅▄▂▂▃▇▄▂▃▆▇▄▆▂▂▄▃▄▄▃▄▄▃▆▅▅▆▄▆▂▄▄▅▄▆█▆▇</td></tr></table><br/>"
      ],
      "text/plain": [
       "<IPython.core.display.HTML object>"
      ]
     },
     "metadata": {},
     "output_type": "display_data"
    },
    {
     "data": {
      "text/html": [
       "Synced 6 W&B file(s), 56 media file(s), 0 artifact file(s) and 0 other file(s)"
      ],
      "text/plain": [
       "<IPython.core.display.HTML object>"
      ]
     },
     "metadata": {},
     "output_type": "display_data"
    },
    {
     "data": {
      "text/html": [
       "\n",
       "                    <br/>Synced <strong style=\"color:#cdcd00\">transformation-None</strong>: <a href=\"https://wandb.ai/ranuga-d/Fake-Face-V2/runs/2dkmhd78\" target=\"_blank\">https://wandb.ai/ranuga-d/Fake-Face-V2/runs/2dkmhd78</a><br/>\n",
       "                "
      ],
      "text/plain": [
       "<IPython.core.display.HTML object>"
      ]
     },
     "metadata": {},
     "output_type": "display_data"
    }
   ],
   "source": [
    "transformation = Compose([\n",
    "    ToTensor(),\n",
    "])\n",
    "data = load_data(transformation=transformation)\n",
    "data = data[0:1056]\n",
    "wandb.init(project=PROJECT_NAME,name='transformation-None')\n",
    "for epoch in tqdm(range(epochs)):\n",
    "    for idx in range(0,len(data),batch_size):\n",
    "#         try:\n",
    "            data_batch = data[idx:idx+batch_size].view(-1,3,IMG_SIZE,IMG_SIZE).to(device).float()\n",
    "            batch_size = data_batch.shape[0]\n",
    "            noise = torch.randn(batch_size,z_dim).to(device)\n",
    "            fake = gen(noise)\n",
    "            fake.to(device)\n",
    "            desc_fake = desc(fake).view(-1)\n",
    "            lossD_fake = criterion(desc_fake,torch.zeros_like(desc_fake))\n",
    "            desc_real = desc(data_batch).view(-1)\n",
    "            lossD_real = criterion(desc_real,torch.ones_like(desc_real))\n",
    "            lossD = (lossD_real+lossD_fake)/2\n",
    "            optimizer_desc.zero_grad()\n",
    "            lossD.backward(retain_graph=True)\n",
    "            optimizer_desc.step()\n",
    "            output = desc(fake).view(-1)\n",
    "            lossG = criterion(output,torch.ones_like(output))\n",
    "            optimizer_gen.zero_grad()\n",
    "            lossG.backward()\n",
    "            optimizer_gen.step()\n",
    "#         except Exception as e:\n",
    "#             print(e)\n",
    "    wandb.log({'lossD':lossD.item()})\n",
    "    wandb.log({'lossG':lossG.item()})\n",
    "    wandb.log({'lossD Fake':lossD_fake.item()})\n",
    "    wandb.log({'lossD Real':lossD_real.item()})\n",
    "    wandb.log({'Acc Fake':accuracy_fake(desc_fake)})\n",
    "    wandb.log({'Acc Real':accuracy_real(desc_real)})\n",
    "    with torch.no_grad():\n",
    "        fake = gen(fixed_noise).view(-1,3,IMG_SIZE,IMG_SIZE)\n",
    "        img_grid_fake = torchvision.utils.make_grid(fake, normalize=True)\n",
    "        wandb.log({'img':wandb.Image(img_grid_fake)})\n",
    "wandb.finish()"
   ]
  },
  {
   "cell_type": "code",
   "execution_count": null,
   "id": "4426516f-e8f9-40f7-ad42-a39bce20b3ba",
   "metadata": {},
   "outputs": [
    {
     "name": "stderr",
     "output_type": "stream",
     "text": [
      "100%|██████████| 1081/1081 [00:04<00:00, 222.64it/s]\n"
     ]
    },
    {
     "name": "stdout",
     "output_type": "stream",
     "text": [
      "1080\n"
     ]
    },
    {
     "data": {
      "text/html": [
       "\n",
       "                Tracking run with wandb version 0.12.0<br/>\n",
       "                Syncing run <strong style=\"color:#cdcd00\">transformation-0.1</strong> to <a href=\"https://wandb.ai\" target=\"_blank\">Weights & Biases</a> <a href=\"https://docs.wandb.com/integrations/jupyter.html\" target=\"_blank\">(Documentation)</a>.<br/>\n",
       "                Project page: <a href=\"https://wandb.ai/ranuga-d/Fake-Face-V2\" target=\"_blank\">https://wandb.ai/ranuga-d/Fake-Face-V2</a><br/>\n",
       "                Run page: <a href=\"https://wandb.ai/ranuga-d/Fake-Face-V2/runs/yf6l5qu2\" target=\"_blank\">https://wandb.ai/ranuga-d/Fake-Face-V2/runs/yf6l5qu2</a><br/>\n",
       "                Run data is saved locally in <code>/home/indika/Programming/Projects/Python/Artifical-Intelligence/PyTorch/GAN/Fake-Face-GAN-V2/wandb/run-20210817_091736-yf6l5qu2</code><br/><br/>\n",
       "            "
      ],
      "text/plain": [
       "<IPython.core.display.HTML object>"
      ]
     },
     "metadata": {},
     "output_type": "display_data"
    },
    {
     "name": "stderr",
     "output_type": "stream",
     "text": [
      " 41%|████      | 23/56 [02:19<03:24,  6.19s/it]\u001b[34m\u001b[1mwandb\u001b[0m: Network error resolved after 0:00:16.187103, resuming normal operation.\n",
      " 68%|██████▊   | 38/56 [03:53<01:52,  6.24s/it]\u001b[34m\u001b[1mwandb\u001b[0m: Network error resolved after 0:01:17.410483, resuming normal operation.\n",
      " 91%|█████████ | 51/56 [05:14<00:31,  6.25s/it]\u001b[34m\u001b[1mwandb\u001b[0m: Network error resolved after 0:01:13.933779, resuming normal operation.\n",
      "100%|██████████| 56/56 [05:45<00:00,  6.17s/it]\n"
     ]
    },
    {
     "data": {
      "text/html": [
       "<br/>Waiting for W&B process to finish, PID 148354<br/>Program ended successfully."
      ],
      "text/plain": [
       "<IPython.core.display.HTML object>"
      ]
     },
     "metadata": {},
     "output_type": "display_data"
    },
    {
     "name": "stderr",
     "output_type": "stream",
     "text": [
      "\u001b[34m\u001b[1mwandb\u001b[0m: Network error resolved after 0:01:02.640130, resuming normal operation.\n"
     ]
    },
    {
     "data": {
      "application/vnd.jupyter.widget-view+json": {
       "model_id": "",
       "version_major": 2,
       "version_minor": 0
      },
      "text/plain": [
       "VBox(children=(Label(value=' 144.49MB of 147.71MB uploaded (0.00MB deduped)\\r'), FloatProgress(value=0.9781882…"
      ]
     },
     "metadata": {},
     "output_type": "display_data"
    },
    {
     "data": {
      "text/html": [
       "Find user logs for this run at: <code>/home/indika/Programming/Projects/Python/Artifical-Intelligence/PyTorch/GAN/Fake-Face-GAN-V2/wandb/run-20210817_091736-yf6l5qu2/logs/debug.log</code>"
      ],
      "text/plain": [
       "<IPython.core.display.HTML object>"
      ]
     },
     "metadata": {},
     "output_type": "display_data"
    },
    {
     "data": {
      "text/html": [
       "Find internal logs for this run at: <code>/home/indika/Programming/Projects/Python/Artifical-Intelligence/PyTorch/GAN/Fake-Face-GAN-V2/wandb/run-20210817_091736-yf6l5qu2/logs/debug-internal.log</code>"
      ],
      "text/plain": [
       "<IPython.core.display.HTML object>"
      ]
     },
     "metadata": {},
     "output_type": "display_data"
    },
    {
     "data": {
      "text/html": [
       "<h3>Run summary:</h3><br/><style>\n",
       "    table.wandb td:nth-child(1) { padding: 0 10px; text-align: right }\n",
       "    </style><table class=\"wandb\">\n",
       "<tr><td>lossD</td><td>0.02094</td></tr><tr><td>_runtime</td><td>353</td></tr><tr><td>_timestamp</td><td>1629172409</td></tr><tr><td>_step</td><td>391</td></tr><tr><td>lossG</td><td>4.07846</td></tr><tr><td>lossD Fake</td><td>0.01843</td></tr><tr><td>lossD Real</td><td>0.02346</td></tr><tr><td>Acc Fake</td><td>1.0</td></tr><tr><td>Acc Real</td><td>1.0</td></tr></table>"
      ],
      "text/plain": [
       "<IPython.core.display.HTML object>"
      ]
     },
     "metadata": {},
     "output_type": "display_data"
    },
    {
     "data": {
      "text/html": [
       "<h3>Run history:</h3><br/><style>\n",
       "    table.wandb td:nth-child(1) { padding: 0 10px; text-align: right }\n",
       "    </style><table class=\"wandb\">\n",
       "<tr><td>lossD</td><td>█▇█▇█▆▆▆█▇█▅▅▄▅▃▃▃▄▃▂▃▂▂▂▂▂▂▂▂▅▄▁▁▁▁▁▁▁▁</td></tr><tr><td>_runtime</td><td>▁▁▁▁▂▂▂▂▂▃▃▃▃▃▃▄▄▄▄▄▅▅▅▅▅▅▆▆▆▆▆▇▇▇▇▇▇███</td></tr><tr><td>_timestamp</td><td>▁▁▁▁▂▂▂▂▂▃▃▃▃▃▃▄▄▄▄▄▅▅▅▅▅▅▆▆▆▆▆▇▇▇▇▇▇███</td></tr><tr><td>_step</td><td>▁▁▁▂▂▂▂▂▂▃▃▃▃▃▃▄▄▄▄▄▅▅▅▅▅▅▆▆▆▆▆▇▇▇▇▇▇███</td></tr><tr><td>lossG</td><td>▁▁▁▁▁▁▁▂▁▂▂▂▃▂▃▃▃▃▅▄▄▅▅▄▅▃▆▅▃▄▇▆▇▇▆█▅▇▇▇</td></tr><tr><td>lossD Fake</td><td>█▇█▇▇▇▆▆▇▆▇▆▆▄▅▄▂▃▄▃▁▃▂▃▃▂▂▂▂▁▄▆▂▁▂▁▁▁▁▁</td></tr><tr><td>lossD Real</td><td>█▇▇▇▇▅▇▇▇▇█▄▄▄▅▂▄▂▄▂▂▂▂▁▂▂▂▁▂▃▅▂▁▁▁▁▁▁▁▁</td></tr><tr><td>Acc Fake</td><td>▁▂▁▄▄▃▆▅▃▅▄▆▆█▆▇██▆▇██████████▇▆████████</td></tr><tr><td>Acc Real</td><td>▃▅▇▆▄▇▅▄▅▃▁███▇███▇███████████▅█████████</td></tr></table><br/>"
      ],
      "text/plain": [
       "<IPython.core.display.HTML object>"
      ]
     },
     "metadata": {},
     "output_type": "display_data"
    },
    {
     "data": {
      "text/html": [
       "Synced 6 W&B file(s), 56 media file(s), 0 artifact file(s) and 0 other file(s)"
      ],
      "text/plain": [
       "<IPython.core.display.HTML object>"
      ]
     },
     "metadata": {},
     "output_type": "display_data"
    },
    {
     "data": {
      "text/html": [
       "\n",
       "                    <br/>Synced <strong style=\"color:#cdcd00\">transformation-0.1</strong>: <a href=\"https://wandb.ai/ranuga-d/Fake-Face-V2/runs/yf6l5qu2\" target=\"_blank\">https://wandb.ai/ranuga-d/Fake-Face-V2/runs/yf6l5qu2</a><br/>\n",
       "                "
      ],
      "text/plain": [
       "<IPython.core.display.HTML object>"
      ]
     },
     "metadata": {},
     "output_type": "display_data"
    },
    {
     "name": "stderr",
     "output_type": "stream",
     "text": [
      "100%|██████████| 1081/1081 [00:07<00:00, 136.29it/s]\n"
     ]
    },
    {
     "name": "stdout",
     "output_type": "stream",
     "text": [
      "1080\n"
     ]
    },
    {
     "data": {
      "text/html": [
       "\n",
       "                Tracking run with wandb version 0.12.0<br/>\n",
       "                Syncing run <strong style=\"color:#cdcd00\">transformation-0.2</strong> to <a href=\"https://wandb.ai\" target=\"_blank\">Weights & Biases</a> <a href=\"https://docs.wandb.com/integrations/jupyter.html\" target=\"_blank\">(Documentation)</a>.<br/>\n",
       "                Project page: <a href=\"https://wandb.ai/ranuga-d/Fake-Face-V2\" target=\"_blank\">https://wandb.ai/ranuga-d/Fake-Face-V2</a><br/>\n",
       "                Run page: <a href=\"https://wandb.ai/ranuga-d/Fake-Face-V2/runs/1gvjzrp3\" target=\"_blank\">https://wandb.ai/ranuga-d/Fake-Face-V2/runs/1gvjzrp3</a><br/>\n",
       "                Run data is saved locally in <code>/home/indika/Programming/Projects/Python/Artifical-Intelligence/PyTorch/GAN/Fake-Face-GAN-V2/wandb/run-20210817_092449-1gvjzrp3</code><br/><br/>\n",
       "            "
      ],
      "text/plain": [
       "<IPython.core.display.HTML object>"
      ]
     },
     "metadata": {},
     "output_type": "display_data"
    },
    {
     "name": "stderr",
     "output_type": "stream",
     "text": [
      " 96%|█████████▋| 54/56 [05:35<00:12,  6.20s/it]\u001b[34m\u001b[1mwandb\u001b[0m: Network error resolved after 0:00:21.259028, resuming normal operation.\n",
      "100%|██████████| 56/56 [05:47<00:00,  6.21s/it]\n"
     ]
    },
    {
     "data": {
      "text/html": [
       "<br/>Waiting for W&B process to finish, PID 153549<br/>Program ended successfully."
      ],
      "text/plain": [
       "<IPython.core.display.HTML object>"
      ]
     },
     "metadata": {},
     "output_type": "display_data"
    },
    {
     "data": {
      "application/vnd.jupyter.widget-view+json": {
       "model_id": "706ef5d444f142f49a724a4793a03a64",
       "version_major": 2,
       "version_minor": 0
      },
      "text/plain": [
       "VBox(children=(Label(value=' 92.24MB of 117.06MB uploaded (0.00MB deduped)\\r'), FloatProgress(value=0.78795254…"
      ]
     },
     "metadata": {},
     "output_type": "display_data"
    },
    {
     "name": "stderr",
     "output_type": "stream",
     "text": [
      "\u001b[34m\u001b[1mwandb\u001b[0m: \u001b[32m\u001b[41mERROR\u001b[0m Control-C detected -- Run data was not synced\n",
      "100%|██████████| 1081/1081 [00:09<00:00, 117.37it/s]\n"
     ]
    },
    {
     "name": "stdout",
     "output_type": "stream",
     "text": [
      "1080\n"
     ]
    },
    {
     "data": {
      "text/html": [
       "\n",
       "                Tracking run with wandb version 0.12.0<br/>\n",
       "                Syncing run <strong style=\"color:#cdcd00\">transformation-0.3</strong> to <a href=\"https://wandb.ai\" target=\"_blank\">Weights & Biases</a> <a href=\"https://docs.wandb.com/integrations/jupyter.html\" target=\"_blank\">(Documentation)</a>.<br/>\n",
       "                Project page: <a href=\"https://wandb.ai/ranuga-d/Fake-Face-V2\" target=\"_blank\">https://wandb.ai/ranuga-d/Fake-Face-V2</a><br/>\n",
       "                Run page: <a href=\"https://wandb.ai/ranuga-d/Fake-Face-V2/runs/k5clp0pq\" target=\"_blank\">https://wandb.ai/ranuga-d/Fake-Face-V2/runs/k5clp0pq</a><br/>\n",
       "                Run data is saved locally in <code>/home/indika/Programming/Projects/Python/Artifical-Intelligence/PyTorch/GAN/Fake-Face-GAN-V2/wandb/run-20210817_093417-k5clp0pq</code><br/><br/>\n",
       "            "
      ],
      "text/plain": [
       "<IPython.core.display.HTML object>"
      ]
     },
     "metadata": {},
     "output_type": "display_data"
    },
    {
     "name": "stderr",
     "output_type": "stream",
     "text": [
      " 41%|████      | 23/56 [02:27<03:32,  6.44s/it]"
     ]
    }
   ],
   "source": [
    "transformations = [0.1,0.2,0.3,0.4,0.5,0.6,0.7,0.8,0.9]\n",
    "for transformation in transformations:\n",
    "    transformation_num = transformation\n",
    "    transformation = Compose([\n",
    "        ToTensor(),\n",
    "        Normalize((transformation,transformation,transformation),(transformation,transformation,transformation))\n",
    "    ])\n",
    "    data = load_data(transformation=transformation)\n",
    "    data = data[0:1056]\n",
    "    wandb.init(project=PROJECT_NAME,name=f'transformation-{transformation_num}')\n",
    "    for epoch in tqdm(range(epochs)):\n",
    "        for idx in range(0,len(data),batch_size):\n",
    "                data_batch = data[idx:idx+batch_size].view(-1,3,IMG_SIZE,IMG_SIZE).to(device).float()\n",
    "                batch_size = data_batch.shape[0]\n",
    "                noise = torch.randn(batch_size,z_dim).to(device)\n",
    "                fake = gen(noise)\n",
    "                fake.to(device)\n",
    "                desc_fake = desc(fake).view(-1)\n",
    "                lossD_fake = criterion(desc_fake,torch.zeros_like(desc_fake))\n",
    "                desc_real = desc(data_batch).view(-1)\n",
    "                lossD_real = criterion(desc_real,torch.ones_like(desc_real))\n",
    "                lossD = (lossD_real+lossD_fake)/2\n",
    "                optimizer_desc.zero_grad()\n",
    "                lossD.backward(retain_graph=True)\n",
    "                optimizer_desc.step()\n",
    "                output = desc(fake).view(-1)\n",
    "                lossG = criterion(output,torch.ones_like(output))\n",
    "                optimizer_gen.zero_grad()\n",
    "                lossG.backward()\n",
    "                optimizer_gen.step()\n",
    "        wandb.log({'lossD':lossD.item()})\n",
    "        wandb.log({'lossG':lossG.item()})\n",
    "        wandb.log({'lossD Fake':lossD_fake.item()})\n",
    "        wandb.log({'lossD Real':lossD_real.item()})\n",
    "        wandb.log({'Acc Fake':accuracy_fake(desc_fake)})\n",
    "        wandb.log({'Acc Real':accuracy_real(desc_real)})\n",
    "        with torch.no_grad():\n",
    "            fake = gen(fixed_noise).view(-1,3,IMG_SIZE,IMG_SIZE)\n",
    "            img_grid_fake = torchvision.utils.make_grid(fake, normalize=True)\n",
    "            wandb.log({'img':wandb.Image(img_grid_fake)})\n",
    "    wandb.finish()"
   ]
  },
  {
   "cell_type": "code",
   "execution_count": null,
   "id": "fd5972fa-cc32-4d54-b7af-bfe26c9005e0",
   "metadata": {},
   "outputs": [],
   "source": []
  },
  {
   "cell_type": "code",
   "execution_count": null,
   "id": "64a13dd8-efbc-4cdb-9885-c11d234d1dc6",
   "metadata": {},
   "outputs": [],
   "source": []
  },
  {
   "cell_type": "code",
   "execution_count": null,
   "id": "1e4bedc5-2c67-453c-97fb-3e164bc33d8f",
   "metadata": {},
   "outputs": [],
   "source": []
  },
  {
   "cell_type": "code",
   "execution_count": null,
   "id": "d3e8ed1c-74e5-4a5f-b0ec-4e25291d0712",
   "metadata": {},
   "outputs": [],
   "source": []
  }
 ],
 "metadata": {
  "kernelspec": {
   "display_name": "Python 3.7.3 64-bit ('base': conda)",
   "language": "python",
   "name": "python373jvsc74a57bd0210f9608a45c0278a93c9e0b10db32a427986ab48cfc0d20c139811eb78c4bbc"
  },
  "language_info": {
   "codemirror_mode": {
    "name": "ipython",
    "version": 3
   },
   "file_extension": ".py",
   "mimetype": "text/x-python",
   "name": "python",
   "nbconvert_exporter": "python",
   "pygments_lexer": "ipython3",
   "version": "3.7.7"
  }
 },
 "nbformat": 4,
 "nbformat_minor": 5
}

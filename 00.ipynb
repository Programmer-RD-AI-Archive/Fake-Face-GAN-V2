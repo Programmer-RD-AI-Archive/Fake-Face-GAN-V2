{
 "cells": [
  {
   "cell_type": "code",
   "execution_count": 1,
   "id": "0956b0da-17e0-4833-a9a8-ca0a3eff3233",
   "metadata": {},
   "outputs": [],
   "source": [
    "import random\n",
    "import torch,torchvision\n",
    "import cv2\n",
    "import os\n",
    "from tqdm import tqdm\n",
    "import matplotlib.pyplot as plt\n",
    "import wandb\n",
    "import numpy as np\n",
    "from torch.nn import *\n",
    "from torch.optim import *\n",
    "from torchvision.transforms import *\n",
    "torch.manual_seed(42)\n",
    "np.random.seed(42)\n",
    "random.seed(42)"
   ]
  },
  {
   "cell_type": "code",
   "execution_count": 2,
   "id": "9f631760-d33d-4099-9074-6aa7a8188d00",
   "metadata": {},
   "outputs": [],
   "source": [
    "IMG_SIZE = 224\n",
    "PROJECT_NAME = 'Fake-Face-V2'\n",
    "device = torch.device('cuda')"
   ]
  },
  {
   "cell_type": "code",
   "execution_count": 3,
   "id": "38fd7cb3-7253-4b93-bc22-e0aaef68679a",
   "metadata": {},
   "outputs": [],
   "source": [
    "transformation = Compose([\n",
    "    ToTensor(),\n",
    "])"
   ]
  },
  {
   "cell_type": "code",
   "execution_count": 4,
   "id": "3d5ca3e9-73a4-4f6a-88f4-40a5b2680081",
   "metadata": {},
   "outputs": [],
   "source": [
    "def load_data(data_dir='./data/',transformation=transformation):\n",
    "    data = []\n",
    "    idx = -1\n",
    "    for file in tqdm(os.listdir(data_dir)):\n",
    "        idx += 1\n",
    "        file = data_dir + file\n",
    "        img = cv2.imread(file)\n",
    "        img = cv2.resize(img,(IMG_SIZE,IMG_SIZE))\n",
    "        data.append(np.array(transformation(np.array(img))))\n",
    "    np.random.shuffle(data)\n",
    "    data = torch.from_numpy(np.array(data))\n",
    "    print(idx)\n",
    "    return data"
   ]
  },
  {
   "cell_type": "code",
   "execution_count": 5,
   "id": "9813ccfc-8115-4e46-a41d-f767caa2b6e0",
   "metadata": {},
   "outputs": [
    {
     "name": "stderr",
     "output_type": "stream",
     "text": [
      "100%|██████████| 1081/1081 [00:09<00:00, 111.12it/s]\n"
     ]
    },
    {
     "name": "stdout",
     "output_type": "stream",
     "text": [
      "1080\n"
     ]
    }
   ],
   "source": [
    "data = load_data()"
   ]
  },
  {
   "cell_type": "code",
   "execution_count": 6,
   "id": "24e65963-3906-4f3a-89b2-88dbf23f378a",
   "metadata": {},
   "outputs": [],
   "source": [
    "class Desc(Module):\n",
    "    def __init__(self,linear_starter=64):\n",
    "        super().__init__()\n",
    "        self.activation = LeakyReLU()\n",
    "        self.dropout = Dropout()\n",
    "        self.linear1 = Linear(IMG_SIZE*IMG_SIZE*IMG_SIZE,linear_starter)\n",
    "        self.linear1batchnorm = BatchNorm1d(linear_starter)\n",
    "        self.linear2 = Linear(linear_starter,linear_starter*2)\n",
    "        self.linear2batchnorm = BatchNorm1d(linear_starter*2)\n",
    "        self.linear3 = Linear(linear_starter*2,linear_starter*3)\n",
    "        self.linear3batchnorm = BatchNorm1d(linear_starter*3)\n",
    "        self.linear4 = Linear(linear_starter*3,linear_starter*4)\n",
    "        self.linear4batchnorm = BatchNorm1d(linear_starter*4)\n",
    "        self.linear5 = Linear(linear_starter*4,linear_starter*5)\n",
    "        self.linear5batchnorm = BatchNorm1d(linear_starter*5)\n",
    "        self.linear6 = Linear(linear_starter*5,linear_starter*4)\n",
    "        self.linear6batchnorm = BatchNorm1d(linear_starter*4)\n",
    "        self.output = Linear(linear_starter,1)\n",
    "        self.output_activation = Sigmoid()\n",
    "    \n",
    "    def forward(self,X):\n",
    "        preds = X.view(-1,3*IMG_SIZE*IMG_SIZE)\n",
    "        preds = self.activation(self.dropout(self.linear1batchnorm(self.linear1(X))))\n",
    "        preds = self.activation(self.dropout(self.linear2batchnorm(self.linear2(preds))))\n",
    "        preds = self.activation(self.dropout(self.linear3batchnorm(self.linear3(preds))))\n",
    "        preds = self.activation(self.dropout(self.linear4batchnorm(self.linear4(preds))))\n",
    "        preds = self.activation(self.dropout(self.linear5batchnorm(self.linear5(preds))))\n",
    "        preds = self.activation(self.dropout(self.linear6batchnorm(self.linear6(preds))))\n",
    "        preds = self.output_activation(self.output(preds))\n",
    "        return preds"
   ]
  },
  {
   "cell_type": "code",
   "execution_count": 7,
   "id": "14cee0f2-5fd5-46df-b367-43dcad20a7dd",
   "metadata": {},
   "outputs": [],
   "source": [
    "class Gen(Module):\n",
    "    def __init__(self,z_dim,linear_starter=512):\n",
    "        super().__init__()\n",
    "        self.activation = LeakyReLU()\n",
    "        self.dropout = Dropout()\n",
    "        self.linear1 = Linear(z_dim,linear_starter)\n",
    "        self.linear1batchnorm = BatchNorm1d(linear_starter)\n",
    "        self.linear2 = Linear(linear_starter,linear_starter*2)\n",
    "        self.linear2batchnorm = BatchNorm1d(linear_starter*2)\n",
    "        self.linear3 = Linear(linear_starter*2,linear_starter*3)\n",
    "        self.linear3batchnorm = BatchNorm1d(linear_starter*3)\n",
    "        self.linear4 = Linear(linear_starter*3,linear_starter*4)\n",
    "        self.linear4batchnorm = BatchNorm1d(linear_starter*4)\n",
    "        self.linear5 = Linear(linear_starter*4,linear_starter*5)\n",
    "        self.linear5batchnorm = BatchNorm1d(linear_starter*5)\n",
    "        self.linear6 = Linear(linear_starter*5,linear_starter*4)\n",
    "        self.linear6batchnorm = BatchNorm1d(linear_starter*4)\n",
    "        self.output = Linear(linear_starter*4,IMG_SIZE*IMG_SIZE*3)\n",
    "        self.output_activation = Tanh()\n",
    "    \n",
    "    def forward(self,X):\n",
    "        preds = self.activation(self.dropout(self.linear1batchnorm(self.linear1(X))))\n",
    "        preds = self.activation(self.dropout(self.linear2batchnorm(self.linear2(preds))))\n",
    "        preds = self.activation(self.dropout(self.linear3batchnorm(self.linear3(preds))))\n",
    "        preds = self.activation(self.dropout(self.linear4batchnorm(self.linear4(preds))))\n",
    "        preds = self.activation(self.dropout(self.linear5batchnorm(self.linear5(preds))))\n",
    "        preds = self.activation(self.dropout(self.linear6batchnorm(self.linear6(preds))))\n",
    "        preds = self.output_activation(self.output(preds))\n",
    "        return preds"
   ]
  },
  {
   "cell_type": "code",
   "execution_count": 8,
   "id": "e2d958b8-ff07-40e8-94ad-487c3a998544",
   "metadata": {},
   "outputs": [],
   "source": [
    "z_dim = 64\n",
    "batch_size = 32\n",
    "desc = Desc().to(device)\n",
    "gen = Gen(z_dim).to(device)\n",
    "lr = 3e-4\n",
    "epochs = 100\n",
    "criterion = BCELoss()\n",
    "optimizer_gen = Adam(gen.parameters(),lr=lr)\n",
    "optimizer_desc = Adam(desc.parameters(),lr=lr)\n",
    "fixed_noise = torch.randn((batch_size,z_dim)).to(device)"
   ]
  },
  {
   "cell_type": "code",
   "execution_count": 9,
   "id": "f7eff20b-fac9-49a1-8b76-375a8c9f7347",
   "metadata": {},
   "outputs": [],
   "source": [
    "data = data[0:1056]"
   ]
  },
  {
   "cell_type": "code",
   "execution_count": 10,
   "id": "0910b575-baf1-405d-bbd2-e93e92e269c0",
   "metadata": {},
   "outputs": [],
   "source": [
    "def accuracy_fake(desc_fake):\n",
    "    correct = 0\n",
    "    total = 0\n",
    "    preds = np.round(np.array(desc_fake.cpu().detach().numpy()))\n",
    "    for pred in preds:\n",
    "        if pred == 0:\n",
    "            correct += 1\n",
    "        total += 1\n",
    "    return round(correct/total,3)\n",
    "def accuracy_real(desc_real):\n",
    "    correct = 0\n",
    "    total = 0\n",
    "    preds = np.round(np.array(desc_real.cpu().detach().numpy()))\n",
    "    for pred in preds:\n",
    "        if pred == 1:\n",
    "            correct += 1\n",
    "        total += 1\n",
    "    return round(correct/total,3)"
   ]
  },
  {
   "cell_type": "code",
   "execution_count": 11,
   "id": "1a1f5d2f-2453-4b94-adab-831b39f10bce",
   "metadata": {},
   "outputs": [
    {
     "name": "stderr",
     "output_type": "stream",
     "text": [
      "\u001b[34m\u001b[1mwandb\u001b[0m: Currently logged in as: \u001b[33mranuga-d\u001b[0m (use `wandb login --relogin` to force relogin)\n"
     ]
    },
    {
     "data": {
      "text/html": [
       "\n",
       "                Tracking run with wandb version 0.12.0<br/>\n",
       "                Syncing run <strong style=\"color:#cdcd00\">test</strong> to <a href=\"https://wandb.ai\" target=\"_blank\">Weights & Biases</a> <a href=\"https://docs.wandb.com/integrations/jupyter.html\" target=\"_blank\">(Documentation)</a>.<br/>\n",
       "                Project page: <a href=\"https://wandb.ai/ranuga-d/Fake-Face-V2\" target=\"_blank\">https://wandb.ai/ranuga-d/Fake-Face-V2</a><br/>\n",
       "                Run page: <a href=\"https://wandb.ai/ranuga-d/Fake-Face-V2/runs/3cok0m8f\" target=\"_blank\">https://wandb.ai/ranuga-d/Fake-Face-V2/runs/3cok0m8f</a><br/>\n",
       "                Run data is saved locally in <code>/home/indika/Programming/Projects/Python/Artifical-Intelligence/PyTorch/GAN/Fake-Face-GAN-V2/wandb/run-20210816_142002-3cok0m8f</code><br/><br/>\n",
       "            "
      ],
      "text/plain": [
       "<IPython.core.display.HTML object>"
      ]
     },
     "metadata": {},
     "output_type": "display_data"
    },
    {
     "name": "stderr",
     "output_type": "stream",
     "text": [
      "100%|██████████| 100/100 [10:19<00:00,  6.19s/it]\n"
     ]
    },
    {
     "data": {
      "text/html": [
       "<br/>Waiting for W&B process to finish, PID 475129<br/>Program ended successfully."
      ],
      "text/plain": [
       "<IPython.core.display.HTML object>"
      ]
     },
     "metadata": {},
     "output_type": "display_data"
    },
    {
     "data": {
      "application/vnd.jupyter.widget-view+json": {
       "model_id": "",
       "version_major": 2,
       "version_minor": 0
      },
      "text/plain": [
       "VBox(children=(Label(value=' 4.38MB of 4.38MB uploaded (0.00MB deduped)\\r'), FloatProgress(value=1.0, max=1.0)…"
      ]
     },
     "metadata": {},
     "output_type": "display_data"
    },
    {
     "data": {
      "text/html": [
       "Find user logs for this run at: <code>/home/indika/Programming/Projects/Python/Artifical-Intelligence/PyTorch/GAN/Fake-Face-GAN-V2/wandb/run-20210816_142002-3cok0m8f/logs/debug.log</code>"
      ],
      "text/plain": [
       "<IPython.core.display.HTML object>"
      ]
     },
     "metadata": {},
     "output_type": "display_data"
    },
    {
     "data": {
      "text/html": [
       "Find internal logs for this run at: <code>/home/indika/Programming/Projects/Python/Artifical-Intelligence/PyTorch/GAN/Fake-Face-GAN-V2/wandb/run-20210816_142002-3cok0m8f/logs/debug-internal.log</code>"
      ],
      "text/plain": [
       "<IPython.core.display.HTML object>"
      ]
     },
     "metadata": {},
     "output_type": "display_data"
    },
    {
     "data": {
      "text/html": [
       "<h3>Run summary:</h3><br/><style>\n",
       "    table.wandb td:nth-child(1) { padding: 0 10px; text-align: right }\n",
       "    </style><table class=\"wandb\">\n",
       "<tr><td>lossD</td><td>0.6907</td></tr><tr><td>_runtime</td><td>626</td></tr><tr><td>_timestamp</td><td>1629104428</td></tr><tr><td>_step</td><td>19800</td></tr><tr><td>lossG</td><td>0.70047</td></tr><tr><td>lossD Fake</td><td>0.68467</td></tr><tr><td>lossD Real</td><td>0.69673</td></tr><tr><td>Acc Fake</td><td>0.562</td></tr><tr><td>Acc Real</td><td>0.312</td></tr></table>"
      ],
      "text/plain": [
       "<IPython.core.display.HTML object>"
      ]
     },
     "metadata": {},
     "output_type": "display_data"
    },
    {
     "data": {
      "text/html": [
       "<h3>Run history:</h3><br/><style>\n",
       "    table.wandb td:nth-child(1) { padding: 0 10px; text-align: right }\n",
       "    </style><table class=\"wandb\">\n",
       "<tr><td>lossD</td><td>▄▅█▃▇▁▁▆▃▅▂▇▄▄▅▇▃▄▄▃▄▄▄▃▄▄▄▃▄▄▄▄▃▄▄▄▅▄▅▅</td></tr><tr><td>_runtime</td><td>▁▁▁▁▂▂▂▂▂▃▃▃▃▃▃▄▄▄▄▄▅▅▅▅▅▅▆▆▆▆▆▇▇▇▇▇▇███</td></tr><tr><td>_timestamp</td><td>▁▁▁▁▂▂▂▂▂▃▃▃▃▃▃▄▄▄▄▄▅▅▅▅▅▅▆▆▆▆▆▇▇▇▇▇▇███</td></tr><tr><td>_step</td><td>▁▁▁▁▂▂▂▂▂▃▃▃▃▃▃▄▄▄▄▄▅▅▅▅▅▅▆▆▆▆▆▇▇▇▇▇▇███</td></tr><tr><td>lossG</td><td>▅█▆▆▂▄▂▁▄▃▄▃▄▃▃▃▄▃▃▄▄▃▄▃▂▃▃▂▄▂▃▂▃▃▂▃▃▃▂▃</td></tr><tr><td>lossD Fake</td><td>█▃▅▄▅▁▂▅▂▄▁▄▂▃▅▅▃▃▃▃▂▃▃▃▄▃▃▃▃▃▃▃▄▄▃▃▃▃▄▄</td></tr><tr><td>lossD Real</td><td>▁▇█▄█▅▄▆▆▆▆█▆▆▅▇▅▅▇▅▆▆▅▅▅▆▅▅▆▆▅▆▅▅▅▆▇▆▆▆</td></tr><tr><td>Acc Fake</td><td>▃▆▅▄▃▆▆▁█▅▇▅▆▆▄▁▅▅▅▆▆▅▅▇▆▇▅▅▅▆▆▅▄▇▆▇▆▅▅▃</td></tr><tr><td>Acc Real</td><td>█▄▃▅▂▆▄▆▅▄▆▁▃▅▄▂▅▆▂▄▂▄▆▃▄▃▆▇▃▃▅▇▆▆▆▃▁▅▄▃</td></tr></table><br/>"
      ],
      "text/plain": [
       "<IPython.core.display.HTML object>"
      ]
     },
     "metadata": {},
     "output_type": "display_data"
    },
    {
     "data": {
      "text/html": [
       "Synced 6 W&B file(s), 1 media file(s), 2 artifact file(s) and 1 other file(s)"
      ],
      "text/plain": [
       "<IPython.core.display.HTML object>"
      ]
     },
     "metadata": {},
     "output_type": "display_data"
    },
    {
     "data": {
      "text/html": [
       "\n",
       "                    <br/>Synced <strong style=\"color:#cdcd00\">test</strong>: <a href=\"https://wandb.ai/ranuga-d/Fake-Face-V2/runs/3cok0m8f\" target=\"_blank\">https://wandb.ai/ranuga-d/Fake-Face-V2/runs/3cok0m8f</a><br/>\n",
       "                "
      ],
      "text/plain": [
       "<IPython.core.display.HTML object>"
      ]
     },
     "metadata": {},
     "output_type": "display_data"
    }
   ],
   "source": [
    "wandb.init(project=PROJECT_NAME,name='test')\n",
    "for epoch in tqdm(range(epochs)):\n",
    "    for idx in range(0,len(data),batch_size):\n",
    "        try:\n",
    "            data_batch = data[idx:idx+batch_size].view(-1,3,IMG_SIZE,IMG_SIZE).to(device).float()\n",
    "            batch_size = data_batch.shape[0]\n",
    "            noise = torch.randn(batch_size,z_dim).to(device)\n",
    "            fake = gen(noise)\n",
    "            fake.to(device)\n",
    "            desc_fake = desc(fake).view(-1)\n",
    "            lossD_fake = criterion(desc_fake,torch.zeros_like(desc_fake))\n",
    "            desc_real = desc(data_batch).view(-1)\n",
    "            lossD_real = criterion(desc_real,torch.ones_like(desc_real))\n",
    "            lossD = (lossD_real+lossD_fake)/2\n",
    "            optimizer_desc.zero_grad()\n",
    "            lossD.backward(retain_graph=True)\n",
    "            optimizer_desc.step()\n",
    "            output = desc(fake).view(-1)\n",
    "            lossG = criterion(output,torch.ones_like(output))\n",
    "            optimizer_gen.zero_grad()\n",
    "            lossG.backward()\n",
    "            optimizer_gen.step()\n",
    "            wandb.log({'lossD':lossD.item()})\n",
    "            wandb.log({'lossG':lossG.item()})\n",
    "            wandb.log({'lossD Fake':lossD_fake.item()})\n",
    "            wandb.log({'lossD Real':lossD_real.item()})\n",
    "            wandb.log({'Acc Fake':accuracy_fake(desc_fake)})\n",
    "            wandb.log({'Acc Real':accuracy_real(desc_real)})\n",
    "        except Exception as e:\n",
    "            print(e)\n",
    "with torch.no_grad():\n",
    "    fake = gen(fixed_noise).view(-1,3,IMG_SIZE,IMG_SIZE)\n",
    "    img_grid_fake = torchvision.utils.make_grid(fake, normalize=True)\n",
    "    wandb.log({'img':wandb.Image(img_grid_fake)})\n",
    "wandb.finish()"
   ]
  },
  {
   "cell_type": "code",
   "execution_count": null,
   "id": "b34f3579-fa0f-4a6a-a68b-d82d2c766d5d",
   "metadata": {},
   "outputs": [],
   "source": []
  },
  {
   "cell_type": "code",
   "execution_count": null,
   "id": "4426516f-e8f9-40f7-ad42-a39bce20b3ba",
   "metadata": {},
   "outputs": [],
   "source": []
  }
 ],
 "metadata": {
  "kernelspec": {
   "display_name": "Python 3.7.3 64-bit ('base': conda)",
   "language": "python",
   "name": "python373jvsc74a57bd0210f9608a45c0278a93c9e0b10db32a427986ab48cfc0d20c139811eb78c4bbc"
  },
  "language_info": {
   "codemirror_mode": {
    "name": "ipython",
    "version": 3
   },
   "file_extension": ".py",
   "mimetype": "text/x-python",
   "name": "python",
   "nbconvert_exporter": "python",
   "pygments_lexer": "ipython3",
   "version": "3.7.7"
  }
 },
 "nbformat": 4,
 "nbformat_minor": 5
}

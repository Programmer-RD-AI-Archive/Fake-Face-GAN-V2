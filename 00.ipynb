{
 "cells": [
  {
   "cell_type": "code",
   "execution_count": 1,
   "id": "0956b0da-17e0-4833-a9a8-ca0a3eff3233",
   "metadata": {},
   "outputs": [],
   "source": [
    "import random\n",
    "import torch,torchvision\n",
    "import cv2\n",
    "import os\n",
    "from tqdm import tqdm\n",
    "import matplotlib.pyplot as plt\n",
    "import wandb\n",
    "import numpy as np\n",
    "from torch.nn import *\n",
    "from torch.optim import *\n",
    "from torchvision.transforms import *\n",
    "torch.manual_seed(42)\n",
    "np.random.seed(42)\n",
    "random.seed(42)"
   ]
  },
  {
   "cell_type": "code",
   "execution_count": 2,
   "id": "9f631760-d33d-4099-9074-6aa7a8188d00",
   "metadata": {},
   "outputs": [],
   "source": [
    "IMG_SIZE = 224\n",
    "PROJECT_NAME = 'Fake-Face-V2'\n",
    "device = torch.device('cuda')"
   ]
  },
  {
   "cell_type": "code",
   "execution_count": 3,
   "id": "38fd7cb3-7253-4b93-bc22-e0aaef68679a",
   "metadata": {},
   "outputs": [],
   "source": [
    "transformation = Compose([\n",
    "    ToTensor(),\n",
    "    RandomVerticalFlip(),\n",
    "    RandomHorizontalFlip(),\n",
    "])"
   ]
  },
  {
   "cell_type": "code",
   "execution_count": 4,
   "id": "3d5ca3e9-73a4-4f6a-88f4-40a5b2680081",
   "metadata": {},
   "outputs": [],
   "source": [
    "def load_data(data_dir='./data/',transformation=transformation):\n",
    "    data = []\n",
    "    idx = -1\n",
    "    for file in tqdm(os.listdir(data_dir)):\n",
    "        idx += 1\n",
    "        file = data_dir + file\n",
    "        img = cv2.imread(file)\n",
    "        img = cv2.resize(img,(IMG_SIZE,IMG_SIZE))\n",
    "        data.append(np.array(transformation(np.array(img))))\n",
    "    np.random.shuffle(data)\n",
    "    data = torch.from_numpy(np.array(data))\n",
    "    print(idx)\n",
    "    return data"
   ]
  },
  {
   "cell_type": "code",
   "execution_count": 5,
   "id": "9813ccfc-8115-4e46-a41d-f767caa2b6e0",
   "metadata": {},
   "outputs": [
    {
     "name": "stderr",
     "output_type": "stream",
     "text": [
      "100%|██████████| 1081/1081 [00:10<00:00, 100.37it/s]\n"
     ]
    },
    {
     "name": "stdout",
     "output_type": "stream",
     "text": [
      "1080\n"
     ]
    }
   ],
   "source": [
    "data = load_data()"
   ]
  },
  {
   "cell_type": "code",
   "execution_count": 7,
   "id": "24e65963-3906-4f3a-89b2-88dbf23f378a",
   "metadata": {},
   "outputs": [],
   "source": [
    "class Desc(Module):\n",
    "    def __init__(self,linear_starter=128):\n",
    "        super().__init__()\n",
    "        self.activation = ReLU()\n",
    "        self.max_pool2d = MaxPool2d((2,2),(2,2))\n",
    "        self.dropout2d = Dropout2d()\n",
    "        self.conv1 = Conv2d(3,8,3)\n",
    "        self.conv1batchnorm = BatchNorm2d(8)\n",
    "        self.conv2 = Conv2d(8,16,3)\n",
    "        self.conv2batchnorm = BatchNorm2d(16)\n",
    "        self.conv3 = Conv2d(16,8,3)\n",
    "        self.conv3batchnorm = BatchNorm2d(8)\n",
    "        self.dropout = Dropout()\n",
    "        self.linear1 = Linear(8*5*5,linear_starter)\n",
    "        self.linear1batchnorm = BatchNorm1d(linear_starter)\n",
    "        self.linear2 = Linear(linear_starter,linear_starter*2)\n",
    "        self.linear2batchnorm = BatchNorm1d(linear_starter*2)\n",
    "        self.linear3 = Linear(linear_starter*2,linear_starter)\n",
    "        self.linear3batchnorm = BatchNorm1d(linear_starter)\n",
    "        self.output = Linear(linear_starter,1)\n",
    "        self.output_activation = Sigmoid()\n",
    "    \n",
    "    def forward(self,X):\n",
    "        preds = X.view(-1,3,IMG_SIZE,IMG_SIZE)\n",
    "        preds = self.max_pool2d(self.activation(self.dropout2d(self.conv1batchnorm(self.conv1(preds)))))\n",
    "        preds = self.max_pool2d(self.activation(self.dropout2d(self.conv2batchnorm(self.conv2(preds)))))\n",
    "        preds = self.max_pool2d(self.activation(self.dropout2d(self.conv3batchnorm(self.conv3(preds)))))\n",
    "        print(preds.shape)\n",
    "        preds = preds.view(-1,8*5*5)\n",
    "        preds = self.activation(self.dropout(self.linear1batchnorm(self.linear1(preds))))\n",
    "        preds = self.activation(self.dropout(self.linear2batchnorm(self.linear2(preds))))\n",
    "        preds = self.activation(self.dropout(self.linear3batchnorm(self.linear3(preds))))\n",
    "        preds = self.output_activation(self.output(preds))\n",
    "        return preds"
   ]
  },
  {
   "cell_type": "code",
   "execution_count": 8,
   "id": "14cee0f2-5fd5-46df-b367-43dcad20a7dd",
   "metadata": {},
   "outputs": [],
   "source": [
    "class Gen(Module):\n",
    "    def __init__(self,z_dim=64,linear_starter=128):\n",
    "        super().__init__()\n",
    "        self.activation = ReLU()\n",
    "        self.dropout = Dropout()\n",
    "        self.linear1 = Linear(z_dim,linear_starter)\n",
    "        self.linear1batchnorm = BatchNorm1d(linear_starter)\n",
    "        self.linear2 = Linear(linear_starter,linear_starter*2)\n",
    "        self.linear2batchnorm = BatchNorm1d(linear_starter*2)\n",
    "        self.linear3 = Linear(linear_starter*2,linear_starter*3)\n",
    "        self.linear3batchnorm = BatchNorm1d(linear_starter*3)\n",
    "        self.linear4 = Linear(linear_starter*3,linear_starter*4)\n",
    "        self.linear4batchnorm = BatchNorm1d(linear_starter*4)\n",
    "        self.linear5 = Linear(linear_starter*4,linear_starter*5)\n",
    "        self.linear5batchnorm = BatchNorm1d(linear_starter*5)\n",
    "        self.linear6 = Linear(linear_starter*5,linear_starter*4)\n",
    "        self.linear6batchnorm = BatchNorm1d(linear_starter*4)\n",
    "        self.output = Linear(linear_starter*4,IMG_SIZE*IMG_SIZE*3)\n",
    "        self.output_activation = Tanh()\n",
    "    \n",
    "    def forward(self,X):\n",
    "        preds = self.activation(self.dropout(self.linear1batchnorm(self.linear1(X))))\n",
    "        preds = self.activation(self.dropout(self.linear2batchnorm(self.linear2(preds))))\n",
    "        preds = self.activation(self.dropout(self.linear3batchnorm(self.linear3(preds))))\n",
    "        preds = self.activation(self.dropout(self.linear4batchnorm(self.linear4(preds))))\n",
    "        preds = self.activation(self.dropout(self.linear5batchnorm(self.linear5(preds))))\n",
    "        preds = self.activation(self.dropout(self.linear6batchnorm(self.linear6(preds))))\n",
    "        preds = self.output_activation(self.output(preds))\n",
    "        return preds"
   ]
  },
  {
   "cell_type": "code",
   "execution_count": 9,
   "id": "e2d958b8-ff07-40e8-94ad-487c3a998544",
   "metadata": {},
   "outputs": [],
   "source": [
    "z_dim = 64\n",
    "batch_size = 32\n",
    "desc = Desc().to(device)\n",
    "gen = Gen().to(device)\n",
    "lr = 3e-4\n",
    "epochs = 125\n",
    "criterion = BCELoss()\n",
    "optimizer_gen = Adam(gen.parameters(),lr=lr)\n",
    "optimizer_desc = Adam(desc.parameters(),lr=lr)\n",
    "fixed_noise = torch.randn((batch_size,z_dim)).to(device)"
   ]
  },
  {
   "cell_type": "code",
   "execution_count": 10,
   "id": "0910b575-baf1-405d-bbd2-e93e92e269c0",
   "metadata": {},
   "outputs": [],
   "source": [
    "def accuracy_fake(desc_fake):\n",
    "    correct = 0\n",
    "    total = 0\n",
    "    preds = np.round(np.array(desc_fake.cpu().detach().numpy()))\n",
    "    for pred in preds:\n",
    "        if pred == 0:\n",
    "            correct += 1\n",
    "        total += 1\n",
    "    return round(correct/total,3)\n",
    "def accuracy_real(desc_real):\n",
    "    correct = 0\n",
    "    total = 0\n",
    "    preds = np.round(np.array(desc_real.cpu().detach().numpy()))\n",
    "    for pred in preds:\n",
    "        if pred == 1:\n",
    "            correct += 1\n",
    "        total += 1\n",
    "    return round(correct/total,3)"
   ]
  },
  {
   "cell_type": "code",
   "execution_count": 11,
   "id": "1a1f5d2f-2453-4b94-adab-831b39f10bce",
   "metadata": {},
   "outputs": [
    {
     "name": "stderr",
     "output_type": "stream",
     "text": [
      "\u001b[34m\u001b[1mwandb\u001b[0m: Currently logged in as: \u001b[33mranuga-d\u001b[0m (use `wandb login --relogin` to force relogin)\n"
     ]
    },
    {
     "data": {
      "text/html": [
       "\n",
       "                Tracking run with wandb version 0.12.0<br/>\n",
       "                Syncing run <strong style=\"color:#cdcd00\">test</strong> to <a href=\"https://wandb.ai\" target=\"_blank\">Weights & Biases</a> <a href=\"https://docs.wandb.com/integrations/jupyter.html\" target=\"_blank\">(Documentation)</a>.<br/>\n",
       "                Project page: <a href=\"https://wandb.ai/ranuga-d/Fake-Face-V2\" target=\"_blank\">https://wandb.ai/ranuga-d/Fake-Face-V2</a><br/>\n",
       "                Run page: <a href=\"https://wandb.ai/ranuga-d/Fake-Face-V2/runs/llpf2yyd\" target=\"_blank\">https://wandb.ai/ranuga-d/Fake-Face-V2/runs/llpf2yyd</a><br/>\n",
       "                Run data is saved locally in <code>/home/indika/Programming/Projects/Python/Artifical-Intelligence/PyTorch/GAN/Fake-Face-GAN-V2/wandb/run-20210816_125247-llpf2yyd</code><br/><br/>\n",
       "            "
      ],
      "text/plain": [
       "<IPython.core.display.HTML object>"
      ]
     },
     "metadata": {},
     "output_type": "display_data"
    },
    {
     "name": "stderr",
     "output_type": "stream",
     "text": [
      "  0%|          | 0/125 [00:00<?, ?it/s]\n"
     ]
    },
    {
     "ename": "RuntimeError",
     "evalue": "shape '[-1, 3, 224, 224]' is invalid for input of size 32",
     "output_type": "error",
     "traceback": [
      "\u001b[0;31m---------------------------------------------------------------------------\u001b[0m",
      "\u001b[0;31mRuntimeError\u001b[0m                              Traceback (most recent call last)",
      "\u001b[0;32m<ipython-input-11-7eeb8b8de5de>\u001b[0m in \u001b[0;36m<module>\u001b[0;34m\u001b[0m\n\u001b[1;32m      7\u001b[0m         \u001b[0mfake\u001b[0m \u001b[0;34m=\u001b[0m \u001b[0mgen\u001b[0m\u001b[0;34m(\u001b[0m\u001b[0mnoise\u001b[0m\u001b[0;34m)\u001b[0m\u001b[0;34m\u001b[0m\u001b[0;34m\u001b[0m\u001b[0m\n\u001b[1;32m      8\u001b[0m         \u001b[0mfake\u001b[0m\u001b[0;34m.\u001b[0m\u001b[0mto\u001b[0m\u001b[0;34m(\u001b[0m\u001b[0mdevice\u001b[0m\u001b[0;34m)\u001b[0m\u001b[0;34m\u001b[0m\u001b[0;34m\u001b[0m\u001b[0m\n\u001b[0;32m----> 9\u001b[0;31m         \u001b[0mdesc_fake\u001b[0m \u001b[0;34m=\u001b[0m \u001b[0mdesc\u001b[0m\u001b[0;34m(\u001b[0m\u001b[0mfake\u001b[0m\u001b[0;34m)\u001b[0m\u001b[0;34m.\u001b[0m\u001b[0mview\u001b[0m\u001b[0;34m(\u001b[0m\u001b[0;34m-\u001b[0m\u001b[0;36m1\u001b[0m\u001b[0;34m)\u001b[0m\u001b[0;34m\u001b[0m\u001b[0;34m\u001b[0m\u001b[0m\n\u001b[0m\u001b[1;32m     10\u001b[0m         \u001b[0mlossD_fake\u001b[0m \u001b[0;34m=\u001b[0m \u001b[0mcriterion\u001b[0m\u001b[0;34m(\u001b[0m\u001b[0mdesc_fake\u001b[0m\u001b[0;34m,\u001b[0m\u001b[0mtorch\u001b[0m\u001b[0;34m.\u001b[0m\u001b[0mzeros_like\u001b[0m\u001b[0;34m(\u001b[0m\u001b[0mdesc_fake\u001b[0m\u001b[0;34m)\u001b[0m\u001b[0;34m)\u001b[0m\u001b[0;34m\u001b[0m\u001b[0;34m\u001b[0m\u001b[0m\n\u001b[1;32m     11\u001b[0m         \u001b[0mdesc_real\u001b[0m \u001b[0;34m=\u001b[0m \u001b[0mdesc\u001b[0m\u001b[0;34m(\u001b[0m\u001b[0mdata_batch\u001b[0m\u001b[0;34m)\u001b[0m\u001b[0;34m.\u001b[0m\u001b[0mview\u001b[0m\u001b[0;34m(\u001b[0m\u001b[0;34m-\u001b[0m\u001b[0;36m1\u001b[0m\u001b[0;34m)\u001b[0m\u001b[0;34m\u001b[0m\u001b[0;34m\u001b[0m\u001b[0m\n",
      "\u001b[0;32m~/anaconda3/lib/python3.7/site-packages/torch/nn/modules/module.py\u001b[0m in \u001b[0;36m_call_impl\u001b[0;34m(self, *input, **kwargs)\u001b[0m\n\u001b[1;32m    725\u001b[0m             \u001b[0mresult\u001b[0m \u001b[0;34m=\u001b[0m \u001b[0mself\u001b[0m\u001b[0;34m.\u001b[0m\u001b[0m_slow_forward\u001b[0m\u001b[0;34m(\u001b[0m\u001b[0;34m*\u001b[0m\u001b[0minput\u001b[0m\u001b[0;34m,\u001b[0m \u001b[0;34m**\u001b[0m\u001b[0mkwargs\u001b[0m\u001b[0;34m)\u001b[0m\u001b[0;34m\u001b[0m\u001b[0;34m\u001b[0m\u001b[0m\n\u001b[1;32m    726\u001b[0m         \u001b[0;32melse\u001b[0m\u001b[0;34m:\u001b[0m\u001b[0;34m\u001b[0m\u001b[0;34m\u001b[0m\u001b[0m\n\u001b[0;32m--> 727\u001b[0;31m             \u001b[0mresult\u001b[0m \u001b[0;34m=\u001b[0m \u001b[0mself\u001b[0m\u001b[0;34m.\u001b[0m\u001b[0mforward\u001b[0m\u001b[0;34m(\u001b[0m\u001b[0;34m*\u001b[0m\u001b[0minput\u001b[0m\u001b[0;34m,\u001b[0m \u001b[0;34m**\u001b[0m\u001b[0mkwargs\u001b[0m\u001b[0;34m)\u001b[0m\u001b[0;34m\u001b[0m\u001b[0;34m\u001b[0m\u001b[0m\n\u001b[0m\u001b[1;32m    728\u001b[0m         for hook in itertools.chain(\n\u001b[1;32m    729\u001b[0m                 \u001b[0m_global_forward_hooks\u001b[0m\u001b[0;34m.\u001b[0m\u001b[0mvalues\u001b[0m\u001b[0;34m(\u001b[0m\u001b[0;34m)\u001b[0m\u001b[0;34m,\u001b[0m\u001b[0;34m\u001b[0m\u001b[0;34m\u001b[0m\u001b[0m\n",
      "\u001b[0;32m<ipython-input-7-8543b73a276a>\u001b[0m in \u001b[0;36mforward\u001b[0;34m(self, X)\u001b[0m\n\u001b[1;32m     22\u001b[0m \u001b[0;34m\u001b[0m\u001b[0m\n\u001b[1;32m     23\u001b[0m     \u001b[0;32mdef\u001b[0m \u001b[0mforward\u001b[0m\u001b[0;34m(\u001b[0m\u001b[0mself\u001b[0m\u001b[0;34m,\u001b[0m\u001b[0mX\u001b[0m\u001b[0;34m)\u001b[0m\u001b[0;34m:\u001b[0m\u001b[0;34m\u001b[0m\u001b[0;34m\u001b[0m\u001b[0m\n\u001b[0;32m---> 24\u001b[0;31m         \u001b[0mpreds\u001b[0m \u001b[0;34m=\u001b[0m \u001b[0mX\u001b[0m\u001b[0;34m.\u001b[0m\u001b[0mview\u001b[0m\u001b[0;34m(\u001b[0m\u001b[0;34m-\u001b[0m\u001b[0;36m1\u001b[0m\u001b[0;34m,\u001b[0m\u001b[0;36m3\u001b[0m\u001b[0;34m,\u001b[0m\u001b[0mIMG_SIZE\u001b[0m\u001b[0;34m,\u001b[0m\u001b[0mIMG_SIZE\u001b[0m\u001b[0;34m)\u001b[0m\u001b[0;34m\u001b[0m\u001b[0;34m\u001b[0m\u001b[0m\n\u001b[0m\u001b[1;32m     25\u001b[0m         \u001b[0mpreds\u001b[0m \u001b[0;34m=\u001b[0m \u001b[0mself\u001b[0m\u001b[0;34m.\u001b[0m\u001b[0mmax_pool2d\u001b[0m\u001b[0;34m(\u001b[0m\u001b[0mself\u001b[0m\u001b[0;34m.\u001b[0m\u001b[0mactivation\u001b[0m\u001b[0;34m(\u001b[0m\u001b[0mself\u001b[0m\u001b[0;34m.\u001b[0m\u001b[0mdropout2d\u001b[0m\u001b[0;34m(\u001b[0m\u001b[0mself\u001b[0m\u001b[0;34m.\u001b[0m\u001b[0mconv1batchnorm\u001b[0m\u001b[0;34m(\u001b[0m\u001b[0mself\u001b[0m\u001b[0;34m.\u001b[0m\u001b[0mconv1\u001b[0m\u001b[0;34m(\u001b[0m\u001b[0mpreds\u001b[0m\u001b[0;34m)\u001b[0m\u001b[0;34m)\u001b[0m\u001b[0;34m)\u001b[0m\u001b[0;34m)\u001b[0m\u001b[0;34m)\u001b[0m\u001b[0;34m\u001b[0m\u001b[0;34m\u001b[0m\u001b[0m\n\u001b[1;32m     26\u001b[0m         \u001b[0mpreds\u001b[0m \u001b[0;34m=\u001b[0m \u001b[0mself\u001b[0m\u001b[0;34m.\u001b[0m\u001b[0mmax_pool2d\u001b[0m\u001b[0;34m(\u001b[0m\u001b[0mself\u001b[0m\u001b[0;34m.\u001b[0m\u001b[0mactivation\u001b[0m\u001b[0;34m(\u001b[0m\u001b[0mself\u001b[0m\u001b[0;34m.\u001b[0m\u001b[0mdropout2d\u001b[0m\u001b[0;34m(\u001b[0m\u001b[0mself\u001b[0m\u001b[0;34m.\u001b[0m\u001b[0mconv2batchnorm\u001b[0m\u001b[0;34m(\u001b[0m\u001b[0mself\u001b[0m\u001b[0;34m.\u001b[0m\u001b[0mconv2\u001b[0m\u001b[0;34m(\u001b[0m\u001b[0mpreds\u001b[0m\u001b[0;34m)\u001b[0m\u001b[0;34m)\u001b[0m\u001b[0;34m)\u001b[0m\u001b[0;34m)\u001b[0m\u001b[0;34m)\u001b[0m\u001b[0;34m\u001b[0m\u001b[0;34m\u001b[0m\u001b[0m\n",
      "\u001b[0;31mRuntimeError\u001b[0m: shape '[-1, 3, 224, 224]' is invalid for input of size 32"
     ]
    }
   ],
   "source": [
    "wandb.init(project=PROJECT_NAME,name='test')\n",
    "for epoch in tqdm(range(epochs)):\n",
    "    for idx in range(0,len(data),batch_size):\n",
    "        data_batch = data[idx:idx+batch_size].view(-1,3,IMG_SIZE,IMG_SIZE).to(device).float()\n",
    "        batch_size = data_batch.shape[0]\n",
    "        noise = torch.randn((batch_size,z_dim)).to(device)\n",
    "        fake = gen(noise)\n",
    "        fake.to(device)\n",
    "        desc_fake = desc(fake).view(-1)\n",
    "        lossD_fake = criterion(desc_fake,torch.zeros_like(desc_fake))\n",
    "        desc_real = desc(data_batch).view(-1)\n",
    "        lossD_real = criterion(desc_real,torch.ones_like(desc_real))\n",
    "        lossD = (lossD_real+lossD_fake)/2\n",
    "        optimizer_desc.zero_grad()\n",
    "        lossD.backward(retain_graph=True)\n",
    "        optimizer_desc.step()\n",
    "        output = gen(fake).view(-1)\n",
    "        lossG = criterion(output,torch.ones_like(output))\n",
    "        optimizer_gen.zero_grad()\n",
    "        lossG.backward()\n",
    "        optimizer_gen.step()\n",
    "        wandb.log({'lossD':lossD.item()})\n",
    "        wandb.log({'lossG':lossG.item()})\n",
    "        wandb.log({'lossD Fake':lossD_fake.item()})\n",
    "        wandb.log({'lossD Real':lossD_real.item()})\n",
    "        wandb.log({'Acc Fake':accuracy_fake(desc_fake)})\n",
    "        wandb.log({'Acc Real':accuracy_real(desc_real)})\n",
    "with torch.no_grad():\n",
    "    fake = gen(noise).view(-1,3,IMG_SIZE,IMG_SIZE)\n",
    "    wandb.log({'img':wandb.Image(img_grid_fake)})\n",
    "wandb.finish()"
   ]
  },
  {
   "cell_type": "code",
   "execution_count": null,
   "id": "8cbbb2a1-0d8d-4777-b640-b9806a4f23e1",
   "metadata": {},
   "outputs": [],
   "source": []
  }
 ],
 "metadata": {
  "kernelspec": {
   "display_name": "Python 3.7.3 64-bit ('base': conda)",
   "language": "python",
   "name": "python373jvsc74a57bd0210f9608a45c0278a93c9e0b10db32a427986ab48cfc0d20c139811eb78c4bbc"
  },
  "language_info": {
   "codemirror_mode": {
    "name": "ipython",
    "version": 3
   },
   "file_extension": ".py",
   "mimetype": "text/x-python",
   "name": "python",
   "nbconvert_exporter": "python",
   "pygments_lexer": "ipython3",
   "version": "3.7.7"
  }
 },
 "nbformat": 4,
 "nbformat_minor": 5
}
